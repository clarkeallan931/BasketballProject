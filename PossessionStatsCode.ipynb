{
 "cells": [
  {
   "cell_type": "code",
   "execution_count": 1,
   "id": "e4652089",
   "metadata": {},
   "outputs": [],
   "source": [
    "from selenium import webdriver\n",
    "from selenium.webdriver.common.by import By\n",
    "from selenium.webdriver.common.keys import Keys\n",
    "from selenium.webdriver.common.by import By\n",
    "from selenium.webdriver.support.ui import WebDriverWait\n",
    "from selenium.webdriver.support import expected_conditions as EC\n",
    "from splinter import Browser\n",
    "from bs4 import BeautifulSoup\n",
    "from selenium.webdriver.support.ui import WebDriverWait\n",
    "import pandas as pd\n",
    "from selenium.webdriver.common.keys import Keys"
   ]
  },
  {
   "cell_type": "code",
   "execution_count": 2,
   "id": "a57ef53c",
   "metadata": {},
   "outputs": [],
   "source": [
    "url = 'https://www.statmuse.com/nba/ask/nba-league-average-possessions-every-decade'"
   ]
  },
  {
   "cell_type": "code",
   "execution_count": 3,
   "id": "5e80469e",
   "metadata": {},
   "outputs": [],
   "source": [
    "browser = Browser('chrome')\n",
    "browser.visit(url)\n",
    "html = browser.html\n",
    "soup = BeautifulSoup(html, 'html.parser')"
   ]
  },
  {
   "cell_type": "code",
   "execution_count": 6,
   "id": "7fc00008",
   "metadata": {},
   "outputs": [],
   "source": [
    "DIV = soup.find('div', class_ = 'relative overflow-x-auto')"
   ]
  },
  {
   "cell_type": "code",
   "execution_count": 13,
   "id": "b2082ee9",
   "metadata": {},
   "outputs": [],
   "source": [
    "Body = DIV.find('tbody')"
   ]
  },
  {
   "cell_type": "code",
   "execution_count": 15,
   "id": "fb590b9c",
   "metadata": {},
   "outputs": [],
   "source": [
    "TR = Body.find_all('tr')"
   ]
  },
  {
   "cell_type": "code",
   "execution_count": 33,
   "id": "8ff1e68f",
   "metadata": {},
   "outputs": [],
   "source": [
    "info = []\n",
    "for t in TR:\n",
    "    TD = t.find_all('td', class_ = 'text-right px-2 py-1')\n",
    "    for i in TD:\n",
    "        info.append(i.text)\n",
    "   "
   ]
  },
  {
   "cell_type": "code",
   "execution_count": 40,
   "id": "a527d4e5",
   "metadata": {},
   "outputs": [],
   "source": []
  },
  {
   "cell_type": "code",
   "execution_count": 45,
   "id": "6a80e8d7",
   "metadata": {},
   "outputs": [],
   "source": [
    "PossessionPerGame = [info[i] for i in range(1,len(info),27)]"
   ]
  },
  {
   "cell_type": "code",
   "execution_count": 42,
   "id": "81fa5a76",
   "metadata": {},
   "outputs": [],
   "source": [
    "PossessionsPerMinuteDF = pd.DataFrame()"
   ]
  },
  {
   "cell_type": "code",
   "execution_count": 43,
   "id": "3962e103",
   "metadata": {},
   "outputs": [],
   "source": [
    "PossessionsPerMinuteDF['Decade']= ['40s','50s','60s','70s','80s','90s','00s','10s','20s']"
   ]
  },
  {
   "cell_type": "code",
   "execution_count": 46,
   "id": "847bf7aa",
   "metadata": {},
   "outputs": [],
   "source": [
    "PossessionsPerMinuteDF['Possessions Per Game']= PossessionPerGame "
   ]
  },
  {
   "cell_type": "code",
   "execution_count": 47,
   "id": "245737fb",
   "metadata": {},
   "outputs": [],
   "source": [
    "PossessionsPerMinuteDF['Min per game']= [48,48,48,48,48,48,48,48,48]"
   ]
  },
  {
   "cell_type": "code",
   "execution_count": 52,
   "id": "027b0397",
   "metadata": {},
   "outputs": [
    {
     "name": "stdout",
     "output_type": "stream",
     "text": [
      "<class 'pandas.core.frame.DataFrame'>\n",
      "RangeIndex: 9 entries, 0 to 8\n",
      "Data columns (total 3 columns):\n",
      " #   Column                Non-Null Count  Dtype \n",
      "---  ------                --------------  ----- \n",
      " 0   Decade                9 non-null      object\n",
      " 1   Possessions Per Game  9 non-null      object\n",
      " 2   Min per game          9 non-null      int64 \n",
      "dtypes: int64(1), object(2)\n",
      "memory usage: 348.0+ bytes\n"
     ]
    }
   ],
   "source": [
    "PossessionsPerMinuteDF.info()\n"
   ]
  },
  {
   "cell_type": "code",
   "execution_count": 53,
   "id": "3756a62d",
   "metadata": {},
   "outputs": [],
   "source": [
    "PossessionsPerMinuteDF['Possessions Per Game']= pd.to_numeric(PossessionsPerMinuteDF['Possessions Per Game'])"
   ]
  },
  {
   "cell_type": "code",
   "execution_count": 54,
   "id": "6262f624",
   "metadata": {},
   "outputs": [
    {
     "name": "stdout",
     "output_type": "stream",
     "text": [
      "<class 'pandas.core.frame.DataFrame'>\n",
      "RangeIndex: 9 entries, 0 to 8\n",
      "Data columns (total 3 columns):\n",
      " #   Column                Non-Null Count  Dtype  \n",
      "---  ------                --------------  -----  \n",
      " 0   Decade                9 non-null      object \n",
      " 1   Possessions Per Game  9 non-null      float64\n",
      " 2   Min per game          9 non-null      int64  \n",
      "dtypes: float64(1), int64(1), object(1)\n",
      "memory usage: 348.0+ bytes\n"
     ]
    }
   ],
   "source": [
    "PossessionsPerMinuteDF.info()"
   ]
  },
  {
   "cell_type": "code",
   "execution_count": 56,
   "id": "ff2a53ae",
   "metadata": {},
   "outputs": [
    {
     "name": "stderr",
     "output_type": "stream",
     "text": [
      "/var/folders/d2/rs9l0yts25jd2cswktf_sr9c0000gn/T/ipykernel_76438/4222366094.py:3: FutureWarning: Series.__getitem__ treating keys as positions is deprecated. In a future version, integer keys will always be treated as labels (consistent with DataFrame behavior). To access a value by position, use `ser.iloc[pos]`\n",
      "  posspermin.append(y[1]/y[2])\n"
     ]
    }
   ],
   "source": [
    "posspermin = []\n",
    "for x,y in PossessionsPerMinuteDF.iterrows():\n",
    "    posspermin.append(y[1]/y[2])"
   ]
  },
  {
   "cell_type": "code",
   "execution_count": 57,
   "id": "c7afcfd3",
   "metadata": {},
   "outputs": [],
   "source": [
    "PossessionsPerMinuteDF['Possessions Per Minutes']= posspermin"
   ]
  },
  {
   "cell_type": "code",
   "execution_count": 58,
   "id": "af1d1924",
   "metadata": {},
   "outputs": [
    {
     "data": {
      "text/html": [
       "<div>\n",
       "<style scoped>\n",
       "    .dataframe tbody tr th:only-of-type {\n",
       "        vertical-align: middle;\n",
       "    }\n",
       "\n",
       "    .dataframe tbody tr th {\n",
       "        vertical-align: top;\n",
       "    }\n",
       "\n",
       "    .dataframe thead th {\n",
       "        text-align: right;\n",
       "    }\n",
       "</style>\n",
       "<table border=\"1\" class=\"dataframe\">\n",
       "  <thead>\n",
       "    <tr style=\"text-align: right;\">\n",
       "      <th></th>\n",
       "      <th>Decade</th>\n",
       "      <th>Possessions Per Game</th>\n",
       "      <th>Min per game</th>\n",
       "      <th>Possessions Per Minutes</th>\n",
       "    </tr>\n",
       "  </thead>\n",
       "  <tbody>\n",
       "    <tr>\n",
       "      <th>0</th>\n",
       "      <td>40s</td>\n",
       "      <td>102.71</td>\n",
       "      <td>48</td>\n",
       "      <td>2.139792</td>\n",
       "    </tr>\n",
       "    <tr>\n",
       "      <th>1</th>\n",
       "      <td>50s</td>\n",
       "      <td>103.23</td>\n",
       "      <td>48</td>\n",
       "      <td>2.150625</td>\n",
       "    </tr>\n",
       "    <tr>\n",
       "      <th>2</th>\n",
       "      <td>60s</td>\n",
       "      <td>121.57</td>\n",
       "      <td>48</td>\n",
       "      <td>2.532708</td>\n",
       "    </tr>\n",
       "    <tr>\n",
       "      <th>3</th>\n",
       "      <td>70s</td>\n",
       "      <td>109.36</td>\n",
       "      <td>48</td>\n",
       "      <td>2.278333</td>\n",
       "    </tr>\n",
       "    <tr>\n",
       "      <th>4</th>\n",
       "      <td>80s</td>\n",
       "      <td>102.20</td>\n",
       "      <td>48</td>\n",
       "      <td>2.129167</td>\n",
       "    </tr>\n",
       "    <tr>\n",
       "      <th>5</th>\n",
       "      <td>90s</td>\n",
       "      <td>94.64</td>\n",
       "      <td>48</td>\n",
       "      <td>1.971667</td>\n",
       "    </tr>\n",
       "    <tr>\n",
       "      <th>6</th>\n",
       "      <td>00s</td>\n",
       "      <td>92.05</td>\n",
       "      <td>48</td>\n",
       "      <td>1.917708</td>\n",
       "    </tr>\n",
       "    <tr>\n",
       "      <th>7</th>\n",
       "      <td>10s</td>\n",
       "      <td>95.31</td>\n",
       "      <td>48</td>\n",
       "      <td>1.985625</td>\n",
       "    </tr>\n",
       "    <tr>\n",
       "      <th>8</th>\n",
       "      <td>20s</td>\n",
       "      <td>99.82</td>\n",
       "      <td>48</td>\n",
       "      <td>2.079583</td>\n",
       "    </tr>\n",
       "  </tbody>\n",
       "</table>\n",
       "</div>"
      ],
      "text/plain": [
       "  Decade  Possessions Per Game  Min per game  Possessions Per Minutes\n",
       "0    40s                102.71            48                 2.139792\n",
       "1    50s                103.23            48                 2.150625\n",
       "2    60s                121.57            48                 2.532708\n",
       "3    70s                109.36            48                 2.278333\n",
       "4    80s                102.20            48                 2.129167\n",
       "5    90s                 94.64            48                 1.971667\n",
       "6    00s                 92.05            48                 1.917708\n",
       "7    10s                 95.31            48                 1.985625\n",
       "8    20s                 99.82            48                 2.079583"
      ]
     },
     "execution_count": 58,
     "metadata": {},
     "output_type": "execute_result"
    }
   ],
   "source": [
    "PossessionsPerMinuteDF"
   ]
  },
  {
   "cell_type": "code",
   "execution_count": 66,
   "id": "190007a8",
   "metadata": {},
   "outputs": [],
   "source": [
    "PossessionsPerMinuteDF.to_csv('PossperMinute.csv')"
   ]
  },
  {
   "cell_type": "code",
   "execution_count": 59,
   "id": "6c8074e0",
   "metadata": {},
   "outputs": [],
   "source": [
    "from pathlib import Path"
   ]
  },
  {
   "cell_type": "code",
   "execution_count": 63,
   "id": "19ffd9ea",
   "metadata": {},
   "outputs": [],
   "source": [
    "Pathing = Path('SummaryStats2001vs2023.csv')"
   ]
  },
  {
   "cell_type": "code",
   "execution_count": 64,
   "id": "1bfc17a2",
   "metadata": {},
   "outputs": [],
   "source": [
    "Summary = pd.read_csv(Pathing)"
   ]
  },
  {
   "cell_type": "code",
   "execution_count": 65,
   "id": "98b25dd6",
   "metadata": {},
   "outputs": [
    {
     "data": {
      "text/html": [
       "<div>\n",
       "<style scoped>\n",
       "    .dataframe tbody tr th:only-of-type {\n",
       "        vertical-align: middle;\n",
       "    }\n",
       "\n",
       "    .dataframe tbody tr th {\n",
       "        vertical-align: top;\n",
       "    }\n",
       "\n",
       "    .dataframe thead th {\n",
       "        text-align: right;\n",
       "    }\n",
       "</style>\n",
       "<table border=\"1\" class=\"dataframe\">\n",
       "  <thead>\n",
       "    <tr style=\"text-align: right;\">\n",
       "      <th></th>\n",
       "      <th>Year</th>\n",
       "      <th>MPG</th>\n",
       "      <th>PPG</th>\n",
       "      <th>FGM</th>\n",
       "      <th>FGA</th>\n",
       "      <th>FG Percentage</th>\n",
       "      <th>3PM</th>\n",
       "      <th>3PA</th>\n",
       "      <th>3P%</th>\n",
       "    </tr>\n",
       "  </thead>\n",
       "  <tbody>\n",
       "    <tr>\n",
       "      <th>0</th>\n",
       "      <td>2001</td>\n",
       "      <td>38.852</td>\n",
       "      <td>23.072</td>\n",
       "      <td>8.516</td>\n",
       "      <td>18.860</td>\n",
       "      <td>45.364</td>\n",
       "      <td>1.148</td>\n",
       "      <td>3.216</td>\n",
       "      <td>31.268</td>\n",
       "    </tr>\n",
       "    <tr>\n",
       "      <th>1</th>\n",
       "      <td>2023</td>\n",
       "      <td>34.832</td>\n",
       "      <td>26.364</td>\n",
       "      <td>9.156</td>\n",
       "      <td>18.724</td>\n",
       "      <td>49.048</td>\n",
       "      <td>2.184</td>\n",
       "      <td>6.112</td>\n",
       "      <td>35.272</td>\n",
       "    </tr>\n",
       "    <tr>\n",
       "      <th>2</th>\n",
       "      <td>Difference</td>\n",
       "      <td>-4.020</td>\n",
       "      <td>3.292</td>\n",
       "      <td>0.640</td>\n",
       "      <td>-0.136</td>\n",
       "      <td>3.684</td>\n",
       "      <td>1.036</td>\n",
       "      <td>2.896</td>\n",
       "      <td>4.004</td>\n",
       "    </tr>\n",
       "  </tbody>\n",
       "</table>\n",
       "</div>"
      ],
      "text/plain": [
       "         Year     MPG     PPG    FGM     FGA  FG Percentage    3PM    3PA  \\\n",
       "0        2001  38.852  23.072  8.516  18.860         45.364  1.148  3.216   \n",
       "1        2023  34.832  26.364  9.156  18.724         49.048  2.184  6.112   \n",
       "2  Difference  -4.020   3.292  0.640  -0.136          3.684  1.036  2.896   \n",
       "\n",
       "      3P%  \n",
       "0  31.268  \n",
       "1  35.272  \n",
       "2   4.004  "
      ]
     },
     "execution_count": 65,
     "metadata": {},
     "output_type": "execute_result"
    }
   ],
   "source": [
    "Summary"
   ]
  },
  {
   "cell_type": "code",
   "execution_count": 70,
   "id": "acc423ab",
   "metadata": {},
   "outputs": [],
   "source": [
    "twokPPM = posspermin[6]\n",
    "twentytwentyPPM = posspermin[8]"
   ]
  },
  {
   "cell_type": "code",
   "execution_count": 78,
   "id": "5ccc9584",
   "metadata": {},
   "outputs": [],
   "source": [
    "possperminlist = []\n",
    "possperminlist.append(twokPPM)"
   ]
  },
  {
   "cell_type": "code",
   "execution_count": 82,
   "id": "24d6e405",
   "metadata": {},
   "outputs": [
    {
     "data": {
      "text/plain": [
       "[1.9177083333333333, 2.0795833333333333]"
      ]
     },
     "execution_count": 82,
     "metadata": {},
     "output_type": "execute_result"
    }
   ],
   "source": [
    "possperminlist.append(twentytwentyPPM)\n",
    "possperminlist = possperminlist[0:2]\n",
    "possperminlist"
   ]
  },
  {
   "cell_type": "code",
   "execution_count": 71,
   "id": "74fe0170",
   "metadata": {},
   "outputs": [
    {
     "data": {
      "text/plain": [
       "2.0795833333333333"
      ]
     },
     "execution_count": 71,
     "metadata": {},
     "output_type": "execute_result"
    }
   ],
   "source": [
    "twentytwentyPPM"
   ]
  },
  {
   "cell_type": "code",
   "execution_count": 73,
   "id": "6f6ec9e4",
   "metadata": {},
   "outputs": [
    {
     "name": "stderr",
     "output_type": "stream",
     "text": [
      "/var/folders/d2/rs9l0yts25jd2cswktf_sr9c0000gn/T/ipykernel_76438/3431911567.py:3: FutureWarning: Series.__getitem__ treating keys as positions is deprecated. In a future version, integer keys will always be treated as labels (consistent with DataFrame behavior). To access a value by position, use `ser.iloc[pos]`\n",
      "  MPG.append(y[1])\n"
     ]
    }
   ],
   "source": [
    "MPG = []\n",
    "for x, y in Summary.iterrows():\n",
    "    MPG.append(y[1])"
   ]
  },
  {
   "cell_type": "code",
   "execution_count": 74,
   "id": "35809951",
   "metadata": {},
   "outputs": [],
   "source": [
    "MPG = MPG[0:2]"
   ]
  },
  {
   "cell_type": "code",
   "execution_count": 75,
   "id": "1af8266c",
   "metadata": {},
   "outputs": [
    {
     "data": {
      "text/plain": [
       "[38.852, 34.832]"
      ]
     },
     "execution_count": 75,
     "metadata": {},
     "output_type": "execute_result"
    }
   ],
   "source": [
    "MPG"
   ]
  },
  {
   "cell_type": "code",
   "execution_count": 83,
   "id": "7b55421f",
   "metadata": {},
   "outputs": [
    {
     "data": {
      "text/plain": [
       "[1.9177083333333333, 2.0795833333333333]"
      ]
     },
     "execution_count": 83,
     "metadata": {},
     "output_type": "execute_result"
    }
   ],
   "source": [
    "possperminlist"
   ]
  },
  {
   "cell_type": "code",
   "execution_count": 84,
   "id": "723cebd4",
   "metadata": {},
   "outputs": [],
   "source": [
    "PossPlayedDF = pd.DataFrame()"
   ]
  },
  {
   "cell_type": "code",
   "execution_count": 85,
   "id": "60fd1a50",
   "metadata": {},
   "outputs": [],
   "source": [
    "PossPlayedDF['Decade']= ['00s', '20s']"
   ]
  },
  {
   "cell_type": "code",
   "execution_count": 87,
   "id": "8f3d48f8",
   "metadata": {},
   "outputs": [],
   "source": [
    "PossPlayedDF = PossPlayedDF.set_index('Decade')"
   ]
  },
  {
   "cell_type": "code",
   "execution_count": 88,
   "id": "4381bd5e",
   "metadata": {},
   "outputs": [],
   "source": [
    "PossPlayedDF['MPG']= MPG"
   ]
  },
  {
   "cell_type": "code",
   "execution_count": 89,
   "id": "58f92a54",
   "metadata": {},
   "outputs": [],
   "source": [
    "PossPlayedDF['Possessions Per Min']= possperminlist"
   ]
  },
  {
   "cell_type": "code",
   "execution_count": 90,
   "id": "725ab286",
   "metadata": {},
   "outputs": [
    {
     "data": {
      "text/html": [
       "<div>\n",
       "<style scoped>\n",
       "    .dataframe tbody tr th:only-of-type {\n",
       "        vertical-align: middle;\n",
       "    }\n",
       "\n",
       "    .dataframe tbody tr th {\n",
       "        vertical-align: top;\n",
       "    }\n",
       "\n",
       "    .dataframe thead th {\n",
       "        text-align: right;\n",
       "    }\n",
       "</style>\n",
       "<table border=\"1\" class=\"dataframe\">\n",
       "  <thead>\n",
       "    <tr style=\"text-align: right;\">\n",
       "      <th></th>\n",
       "      <th>MPG</th>\n",
       "      <th>Possessions Per Min</th>\n",
       "    </tr>\n",
       "    <tr>\n",
       "      <th>Decade</th>\n",
       "      <th></th>\n",
       "      <th></th>\n",
       "    </tr>\n",
       "  </thead>\n",
       "  <tbody>\n",
       "    <tr>\n",
       "      <th>00s</th>\n",
       "      <td>38.852</td>\n",
       "      <td>1.917708</td>\n",
       "    </tr>\n",
       "    <tr>\n",
       "      <th>20s</th>\n",
       "      <td>34.832</td>\n",
       "      <td>2.079583</td>\n",
       "    </tr>\n",
       "  </tbody>\n",
       "</table>\n",
       "</div>"
      ],
      "text/plain": [
       "           MPG  Possessions Per Min\n",
       "Decade                             \n",
       "00s     38.852             1.917708\n",
       "20s     34.832             2.079583"
      ]
     },
     "execution_count": 90,
     "metadata": {},
     "output_type": "execute_result"
    }
   ],
   "source": []
  },
  {
   "cell_type": "code",
   "execution_count": 93,
   "id": "7475cafa",
   "metadata": {},
   "outputs": [
    {
     "name": "stderr",
     "output_type": "stream",
     "text": [
      "/var/folders/d2/rs9l0yts25jd2cswktf_sr9c0000gn/T/ipykernel_76438/878117048.py:3: FutureWarning: Series.__getitem__ treating keys as positions is deprecated. In a future version, integer keys will always be treated as labels (consistent with DataFrame behavior). To access a value by position, use `ser.iloc[pos]`\n",
      "  posspergame.append(y[0]*y[1])\n"
     ]
    }
   ],
   "source": [
    "posspergame = []\n",
    "for x,y in PossPlayedDF.iterrows():\n",
    "    posspergame.append(y[0]*y[1])"
   ]
  },
  {
   "cell_type": "code",
   "execution_count": 94,
   "id": "19bc0e30",
   "metadata": {},
   "outputs": [],
   "source": [
    "PossPlayedDF['Possessions Per Game']= posspergame"
   ]
  },
  {
   "cell_type": "code",
   "execution_count": 95,
   "id": "54aae957",
   "metadata": {},
   "outputs": [
    {
     "data": {
      "text/html": [
       "<div>\n",
       "<style scoped>\n",
       "    .dataframe tbody tr th:only-of-type {\n",
       "        vertical-align: middle;\n",
       "    }\n",
       "\n",
       "    .dataframe tbody tr th {\n",
       "        vertical-align: top;\n",
       "    }\n",
       "\n",
       "    .dataframe thead th {\n",
       "        text-align: right;\n",
       "    }\n",
       "</style>\n",
       "<table border=\"1\" class=\"dataframe\">\n",
       "  <thead>\n",
       "    <tr style=\"text-align: right;\">\n",
       "      <th></th>\n",
       "      <th>MPG</th>\n",
       "      <th>Possessions Per Min</th>\n",
       "      <th>Possessions Per Game</th>\n",
       "    </tr>\n",
       "    <tr>\n",
       "      <th>Decade</th>\n",
       "      <th></th>\n",
       "      <th></th>\n",
       "      <th></th>\n",
       "    </tr>\n",
       "  </thead>\n",
       "  <tbody>\n",
       "    <tr>\n",
       "      <th>00s</th>\n",
       "      <td>38.852</td>\n",
       "      <td>1.917708</td>\n",
       "      <td>74.506804</td>\n",
       "    </tr>\n",
       "    <tr>\n",
       "      <th>20s</th>\n",
       "      <td>34.832</td>\n",
       "      <td>2.079583</td>\n",
       "      <td>72.436047</td>\n",
       "    </tr>\n",
       "  </tbody>\n",
       "</table>\n",
       "</div>"
      ],
      "text/plain": [
       "           MPG  Possessions Per Min  Possessions Per Game\n",
       "Decade                                                   \n",
       "00s     38.852             1.917708             74.506804\n",
       "20s     34.832             2.079583             72.436047"
      ]
     },
     "execution_count": 95,
     "metadata": {},
     "output_type": "execute_result"
    }
   ],
   "source": [
    "PossPlayedDF"
   ]
  },
  {
   "cell_type": "code",
   "execution_count": 96,
   "id": "d3cfaeda",
   "metadata": {},
   "outputs": [],
   "source": [
    "PossPlayedDF.to_csv('PossPerGame.csv')"
   ]
  },
  {
   "cell_type": "code",
   "execution_count": null,
   "id": "d5dfb701",
   "metadata": {},
   "outputs": [],
   "source": []
  }
 ],
 "metadata": {
  "kernelspec": {
   "display_name": "Python 3 (ipykernel)",
   "language": "python",
   "name": "python3"
  },
  "language_info": {
   "codemirror_mode": {
    "name": "ipython",
    "version": 3
   },
   "file_extension": ".py",
   "mimetype": "text/x-python",
   "name": "python",
   "nbconvert_exporter": "python",
   "pygments_lexer": "ipython3",
   "version": "3.11.5"
  }
 },
 "nbformat": 4,
 "nbformat_minor": 5
}
